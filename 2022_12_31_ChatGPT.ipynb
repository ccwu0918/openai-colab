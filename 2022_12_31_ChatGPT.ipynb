{
  "nbformat": 4,
  "nbformat_minor": 0,
  "metadata": {
    "colab": {
      "provenance": []
    },
    "kernelspec": {
      "name": "python3",
      "display_name": "Python 3"
    },
    "language_info": {
      "name": "python"
    }
  },
  "cells": [
    {
      "cell_type": "code",
      "execution_count": null,
      "metadata": {
        "id": "8BcQOP3a0sia",
        "colab": {
          "base_uri": "https://localhost:8080/"
        },
        "outputId": "c9e1c78e-07d0-468d-d9f4-443e8fc6fb95"
      },
      "outputs": [
        {
          "output_type": "stream",
          "name": "stdout",
          "text": [
            "Looking in indexes: https://pypi.org/simple, https://us-python.pkg.dev/colab-wheels/public/simple/\n",
            "Collecting openai\n",
            "  Downloading openai-0.26.5.tar.gz (55 kB)\n",
            "\u001b[2K     \u001b[90m━━━━━━━━━━━━━━━━━━━━━━━━━━━━━━━━━━━━━━━\u001b[0m \u001b[32m55.5/55.5 KB\u001b[0m \u001b[31m623.9 kB/s\u001b[0m eta \u001b[36m0:00:00\u001b[0m\n",
            "\u001b[?25h  Installing build dependencies ... \u001b[?25l\u001b[?25hdone\n",
            "  Getting requirements to build wheel ... \u001b[?25l\u001b[?25hdone\n",
            "  Installing backend dependencies ... \u001b[?25l\u001b[?25hdone\n",
            "  Preparing metadata (pyproject.toml) ... \u001b[?25l\u001b[?25hdone\n",
            "Requirement already satisfied: aiohttp in /usr/local/lib/python3.8/dist-packages (from openai) (3.8.3)\n",
            "Requirement already satisfied: tqdm in /usr/local/lib/python3.8/dist-packages (from openai) (4.64.1)\n",
            "Requirement already satisfied: requests>=2.20 in /usr/local/lib/python3.8/dist-packages (from openai) (2.25.1)\n",
            "Requirement already satisfied: chardet<5,>=3.0.2 in /usr/local/lib/python3.8/dist-packages (from requests>=2.20->openai) (4.0.0)\n",
            "Requirement already satisfied: idna<3,>=2.5 in /usr/local/lib/python3.8/dist-packages (from requests>=2.20->openai) (2.10)\n",
            "Requirement already satisfied: urllib3<1.27,>=1.21.1 in /usr/local/lib/python3.8/dist-packages (from requests>=2.20->openai) (1.24.3)\n",
            "Requirement already satisfied: certifi>=2017.4.17 in /usr/local/lib/python3.8/dist-packages (from requests>=2.20->openai) (2022.12.7)\n",
            "Requirement already satisfied: attrs>=17.3.0 in /usr/local/lib/python3.8/dist-packages (from aiohttp->openai) (22.2.0)\n",
            "Requirement already satisfied: charset-normalizer<3.0,>=2.0 in /usr/local/lib/python3.8/dist-packages (from aiohttp->openai) (2.1.1)\n",
            "Requirement already satisfied: async-timeout<5.0,>=4.0.0a3 in /usr/local/lib/python3.8/dist-packages (from aiohttp->openai) (4.0.2)\n",
            "Requirement already satisfied: frozenlist>=1.1.1 in /usr/local/lib/python3.8/dist-packages (from aiohttp->openai) (1.3.3)\n",
            "Requirement already satisfied: yarl<2.0,>=1.0 in /usr/local/lib/python3.8/dist-packages (from aiohttp->openai) (1.8.2)\n",
            "Requirement already satisfied: multidict<7.0,>=4.5 in /usr/local/lib/python3.8/dist-packages (from aiohttp->openai) (6.0.4)\n",
            "Requirement already satisfied: aiosignal>=1.1.2 in /usr/local/lib/python3.8/dist-packages (from aiohttp->openai) (1.3.1)\n",
            "Building wheels for collected packages: openai\n",
            "  Building wheel for openai (pyproject.toml) ... \u001b[?25l\u001b[?25hdone\n",
            "  Created wheel for openai: filename=openai-0.26.5-py3-none-any.whl size=67620 sha256=9a767df575bf31c538aea48f66b6e6756c7cacb0002643e08129befebec1d3a4\n",
            "  Stored in directory: /root/.cache/pip/wheels/a7/47/99/8273a59fbd59c303e8ff175416d5c1c9c03a2e83ebf7525a99\n",
            "Successfully built openai\n",
            "Installing collected packages: openai\n",
            "Successfully installed openai-0.26.5\n"
          ]
        }
      ],
      "source": [
        "!pip install openai"
      ]
    },
    {
      "cell_type": "code",
      "source": [
        "# 開發第一個ChatGPT程式\n",
        "import openai\n",
        "\n",
        "api_key =  \"Your OpenAI API Key\"\n",
        "\n",
        "openai.api_key = api_key\n",
        "\n",
        "response = openai.Completion.create(\n",
        "  model=\"text-davinci-003\",\n",
        "  prompt=\"請問Python有哪幾種基本的資料型態？\",\n",
        "  temperature=0,\n",
        "  max_tokens=500,\n",
        "  top_p=1,\n",
        "  frequency_penalty=0.5,\n",
        "  presence_penalty=0\n",
        ")"
      ],
      "metadata": {
        "id": "ZFwr_3dd1SAp"
      },
      "execution_count": null,
      "outputs": []
    },
    {
      "cell_type": "code",
      "source": [
        "response"
      ],
      "metadata": {
        "colab": {
          "base_uri": "https://localhost:8080/"
        },
        "id": "4U8QQvYL2OAo",
        "outputId": "22961909-0b6f-49f7-af1f-3085c1e5360b"
      },
      "execution_count": null,
      "outputs": [
        {
          "output_type": "execute_result",
          "data": {
            "text/plain": [
              "<OpenAIObject text_completion id=cmpl-6k7qRkjSRudbC5ULsYFoFAZdn6NAc at 0x7fd20d4c4db0> JSON: {\n",
              "  \"choices\": [\n",
              "    {\n",
              "      \"finish_reason\": \"stop\",\n",
              "      \"index\": 0,\n",
              "      \"logprobs\": null,\n",
              "      \"text\": \"\\n\\nPython\\u6709\\u4ee5\\u4e0b\\u5e7e\\u7a2e\\u57fa\\u672c\\u7684\\u8cc7\\u6599\\u578b\\u614b\\uff1a\\n\\n1. \\u6578\\u5b57 (Number)\\uff1a\\u6574\\u6578 (int)\\u3001\\u6d6e\\u9ede\\u6578 (float)\\u3001\\u8907\\u6578 (complex)\\u3002\\n2. \\u5b57\\u4e32 (String)\\uff1a\\u5b57\\u5143\\u5e8f\\u5217\\uff0c\\u7531\\u4e00\\u5c0d\\u96d9\\u5f15\\u865f\\u6216\\u55ae\\u5f15\\u865f\\u62ec\\u4f4f\\u3002\\n3. \\u5217\\u8868 (List)\\uff1a\\u4e00\\u7d44\\u6309\\u9806\\u5e8f\\u6392\\u5217\\u7684\\u7269\\u4ef6\\u96c6\\u5408\\uff0c\\u7531\\u65b9\\u62ec\\u865f [] \\u62ec\\u4f4f\\u3002\\n4. \\u5143\\u7d44 (Tuple)\\uff1a\\u4e00\\u7d44\\u4e0d\\u53ef\\u8b8a\\u52d5\\u7684\\u7269\\u4ef6\\u96c6\\u5408\\uff0c\\u7531\\u5c0f\\u62ec\\u865f () \\u62ec\\u4f4f\\u3002\\n5. \\u96c6\\u5408 (Set)\\uff1a\\u4e00\\u7d44\\u4e0d\\u91cd\\u8986\\u7684\\u7269\\u4ef6\\u96c6\\u5408\\uff0c\\u7531\\u5927\\u62ec\\u865f {} \\u62ec\\u4f4f\\u3002\\n6. \\u5b57\\u5178 (Dictionary)\\uff1a\\u4e00\\u7d44\\u9375-\\u503c\\u5c0d\\u7684\\u96c6\\u5408\\uff0c\\u7531\\u5927\\u62ec\\u865f {} \\u62ec\\u4f4f\\u3002\"\n",
              "    }\n",
              "  ],\n",
              "  \"created\": 1676451263,\n",
              "  \"id\": \"cmpl-6k7qRkjSRudbC5ULsYFoFAZdn6NAc\",\n",
              "  \"model\": \"text-davinci-003\",\n",
              "  \"object\": \"text_completion\",\n",
              "  \"usage\": {\n",
              "    \"completion_tokens\": 348,\n",
              "    \"prompt_tokens\": 36,\n",
              "    \"total_tokens\": 384\n",
              "  }\n",
              "}"
            ]
          },
          "metadata": {},
          "execution_count": 3
        }
      ]
    },
    {
      "cell_type": "code",
      "source": [
        "print(response[\"choices\"][0][\"text\"].strip())"
      ],
      "metadata": {
        "colab": {
          "base_uri": "https://localhost:8080/"
        },
        "id": "OirHHOR82lVg",
        "outputId": "f4dd8dfb-ed56-4760-e20a-331d62315082"
      },
      "execution_count": null,
      "outputs": [
        {
          "output_type": "stream",
          "name": "stdout",
          "text": [
            "Python有以下幾種基本的資料型態：\n",
            "\n",
            "1. 數字 (Number)：整數 (int)、浮點數 (float)、複數 (complex)。\n",
            "2. 字串 (String)：字元序列，由一對雙引號或單引號括住。\n",
            "3. 列表 (List)：一組按順序排列的物件集合，由方括號 [] 括住。\n",
            "4. 元組 (Tuple)：一組不可變動的物件集合，由小括號 () 括住。\n",
            "5. 集合 (Set)：一組不重覆的物件集合，由大括號 {} 括住。\n",
            "6. 字典 (Dictionary)：一組鍵-值對的集合，由大括號 {} 括住。\n"
          ]
        }
      ]
    },
    {
      "cell_type": "code",
      "source": [
        "# ChatGPT簡易聊天程式\n",
        "import openai\n",
        "openai.api_key = api_key\n",
        "\n",
        "Question = input(\"請輸入您的問題：\") # \"請問openai.api_key連接DALL·E API程式碼如何撰寫？\"\n",
        "if Question != \"\":\n",
        "    response = openai.Completion.create(\n",
        "        model=\"text-davinci-003\",\n",
        "        prompt=Question,\n",
        "        temperature=0,\n",
        "        max_tokens=500,\n",
        "        top_p=1,\n",
        "        frequency_penalty=0.5,\n",
        "        presence_penalty=0\n",
        "    )\n",
        "    # 顯示答案\n",
        "    print(response[\"choices\"][0][\"text\"].strip())"
      ],
      "metadata": {
        "colab": {
          "base_uri": "https://localhost:8080/"
        },
        "id": "y2HE4cRB3R5u",
        "outputId": "bd7f4e5e-3a31-4411-9ee3-4f4d05797a0c"
      },
      "execution_count": null,
      "outputs": [
        {
          "output_type": "stream",
          "name": "stdout",
          "text": [
            "請輸入您的問題：請問Python連接DALL·E API程式碼如何撰寫？\n",
            "Question：請問Python連接DALL·E API程式碼如何撰寫？\n",
            "Python連接DALL·E API的程式碼如下：\n",
            "\n",
            "import requests \n",
            "url = 'https://dalle.ai/api/v1/generate' \n",
            "data = {'prompt': 'A picture of a dog'} \n",
            "response = requests.post(url, data=data) \n",
            "print(response.json())\n"
          ]
        }
      ]
    },
    {
      "cell_type": "code",
      "source": [
        "# 製作ChatGPT自訂函式\n",
        "def askchatgpt(Question):\n",
        "    response = openai.Completion.create(\n",
        "        model=\"text-davinci-003\",\n",
        "        prompt=Question,\n",
        "        temperature=0,\n",
        "        max_tokens=500,\n",
        "        top_p=1,\n",
        "        frequency_penalty=0.5,\n",
        "        presence_penalty=0\n",
        "    )\n",
        "    # 返回答案\n",
        "    return response[\"choices\"][0][\"text\"].strip()"
      ],
      "metadata": {
        "id": "f_jCTDJT4rtk"
      },
      "execution_count": null,
      "outputs": []
    },
    {
      "cell_type": "code",
      "source": [
        "Question = input(\"請輸入您的問題：\") # 要怎麼保持健康?\n",
        "print(askchatgpt(Question))"
      ],
      "metadata": {
        "colab": {
          "base_uri": "https://localhost:8080/"
        },
        "id": "7vgnkvms5Rbl",
        "outputId": "9094e8c8-7b21-4b3c-f1b2-fe2fd5353fb3"
      },
      "execution_count": null,
      "outputs": [
        {
          "output_type": "stream",
          "name": "stdout",
          "text": [
            "請輸入您的問題：要怎麼保持健康?\n",
            "1. 均衡飲食：每天吃足夠的蔬菜、水果、全穀類和健康的脂肪，以及適量的蛋白質和碳水化合物。\n",
            "\n",
            "2. 運動：定期鍛煉可以促進血液循環，改善心血管健康，並幫助控制體重。\n",
            "\n",
            "3. 保持正常的作息時間：保持一定的作息時間有助於調整生理機能，並有助於保持心理和情緒上的平衡。\n",
            "\n",
            "4. 限制酗酒：過量飲酒對人體有害無益，可能導致多重健康危害。\n",
            "\n",
            "5. 合理使用藥物：在使用任何藥物之前都要先徵詢醫生意見。\n"
          ]
        }
      ]
    },
    {
      "cell_type": "code",
      "source": [
        "# 製作有使用介面的聊天機器人：Gradio\n",
        "!pip install gradio"
      ],
      "metadata": {
        "id": "VnXRgSlT6JcS"
      },
      "execution_count": null,
      "outputs": []
    },
    {
      "cell_type": "code",
      "source": [
        "# 製作有使用介面的聊天機器人：Gradio\n",
        "# Create interface object\n",
        "import gradio as gr\n",
        "gui = gr.Interface(fn=askchatgpt, #callable function\n",
        "                   inputs=\"text\", #input format\n",
        "                   outputs=\"text\") #output format\n",
        "# Display the interface\n",
        "gui.launch(share=True)"
      ],
      "metadata": {
        "colab": {
          "base_uri": "https://localhost:8080/",
          "height": 591
        },
        "id": "t94zX_jlUIZ0",
        "outputId": "fafc90ff-575a-4337-c2d8-57d629cfdfe1"
      },
      "execution_count": null,
      "outputs": [
        {
          "output_type": "stream",
          "name": "stdout",
          "text": [
            "Colab notebook detected. To show errors in colab notebook, set debug=True in launch()\n",
            "Running on public URL: https://52d01f6f-8388-4ea3.gradio.live\n",
            "\n",
            "This share link expires in 72 hours. For free permanent hosting and GPU upgrades (NEW!), check out Spaces: https://huggingface.co/spaces\n"
          ]
        },
        {
          "output_type": "display_data",
          "data": {
            "text/plain": [
              "<IPython.core.display.HTML object>"
            ],
            "text/html": [
              "<div><iframe src=\"https://52d01f6f-8388-4ea3.gradio.live\" width=\"100%\" height=\"500\" allow=\"autoplay; camera; microphone; clipboard-read; clipboard-write;\" frameborder=\"0\" allowfullscreen></iframe></div>"
            ]
          },
          "metadata": {}
        },
        {
          "output_type": "execute_result",
          "data": {
            "text/plain": []
          },
          "metadata": {},
          "execution_count": 12
        }
      ]
    }
  ]
}